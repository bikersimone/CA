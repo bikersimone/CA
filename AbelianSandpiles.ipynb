{
 "cells": [
  {
   "cell_type": "code",
   "execution_count": 18,
   "metadata": {},
   "outputs": [],
   "source": [
    "import matplotlib as mpl\n",
    "try:\n",
    "    mpl.use('Qt5Agg')\n",
    "except ValueError as e:\n",
    "    print('Error: matplotlib backend\\n', e)\n",
    "    print('Trying:', mpl.get_backend())\n",
    "    mpl.use(matplotlib.get_backend())\n",
    "\n",
    "import numpy as np\n",
    "import matplotlib.pyplot as plt\n",
    "from matplotlib import cm\n",
    "import matplotlib.animation as animation"
   ]
  },
  {
   "cell_type": "code",
   "execution_count": 19,
   "metadata": {},
   "outputs": [],
   "source": [
    "def prep(field):\n",
    "    field[:,0]=0\n",
    "    field[:,-1]=0\n",
    "    field[0,:]=0\n",
    "    field[-1,:]=0\n",
    "    return field"
   ]
  },
  {
   "cell_type": "code",
   "execution_count": 20,
   "metadata": {},
   "outputs": [
    {
     "name": "stdout",
     "output_type": "stream",
     "text": [
      "[[ 0.  0.  0. ...,  0.  0.  0.]\n",
      " [ 0.  0.  0. ...,  0.  0.  0.]\n",
      " [ 0.  0.  0. ...,  0.  0.  0.]\n",
      " ..., \n",
      " [ 0.  0.  0. ...,  0.  0.  0.]\n",
      " [ 0.  0.  0. ...,  0.  0.  0.]\n",
      " [ 0.  0.  0. ...,  0.  0.  0.]]\n"
     ]
    }
   ],
   "source": [
    "# size of the pile-space (each pixel is a pile)\n",
    "SIZE = (100, 100)\n",
    "\n",
    "# maximum number of stackable sand grains that will cause a tople\n",
    "# (should be dividable by 4!)\n",
    "MAXH = 4\n",
    "\n",
    "FPH = 100000\n",
    "MPC = (49,49)\n",
    "\n",
    "# sand field\n",
    "field = 0*np.ones((SIZE[0]+2,SIZE[1]+2))\n",
    "field[MPC[0]+1,MPC[1]+1] += FPH\n",
    "print field\n",
    "\n",
    "cmap = cm.RdPu\n",
    "cmap.set_over((1., 0., 0.))\n",
    "cmap.set_under((0., 0., 1.))\n",
    "bounds = list(x for x in range(0, 4))\n",
    "norm = mpl.colors.BoundaryNorm(bounds, cmap.N)\n"
   ]
  },
  {
   "cell_type": "code",
   "execution_count": 21,
   "metadata": {},
   "outputs": [],
   "source": [
    "def update_plot(i):\n",
    "    # find the highest pile\n",
    "    toohigh = field >= MAXH\n",
    "    \n",
    "    # decrease piles\n",
    "    field[toohigh] -= MAXH\n",
    "    \n",
    "    # increase piles\n",
    "    field[1:,:][toohigh[:-1,:]] += MAXH / 4\n",
    "    field[:-1,:][toohigh[1:,:]] += MAXH / 4\n",
    "    field[:,1:][toohigh[:,:-1]] += MAXH / 4\n",
    "    field[:,:-1][toohigh[:,1:]] += MAXH / 4\n",
    "\n",
    "    # reset the overspill\n",
    "    field[0:1,:] = 0\n",
    "    field[1+SIZE[0]:,:] = 0\n",
    "    field[:,0:1] = 0\n",
    "    field[:,1+SIZE[1]:] = 0\n",
    "    im.set_array(field)\n",
    "\n",
    "    return im"
   ]
  },
  {
   "cell_type": "code",
   "execution_count": 27,
   "metadata": {},
   "outputs": [],
   "source": [
    "fig, ax = plt.subplots()\n",
    "fig.set_size_inches(5, 5, True)\n",
    "\n",
    "im = ax.imshow(field, cmap='Greens',animated=True, clim=(0, 3))\n",
    "\n",
    "anim = animation.FuncAnimation(fig,\n",
    "                                   update_plot,\n",
    "                                   np.arange(1, 2000),\n",
    "                                   repeat=False,\n",
    "                                   blit=False,\n",
    "                                   interval=10)\n",
    "plt.axis('off')\n",
    "plt.tight_layout()\n",
    "\n",
    "Writer = animation.writers['ffmpeg']\n",
    "writer = Writer(fps=150, bitrate=1800)\n",
    "anim.save('sandpile.mp4', writer=writer)\n",
    "#plt.show()\n",
    "\n",
    "\n",
    "#ax.imshow(field / np.max(field), cmap='plasma', vmin=0, vmax=1)\n",
    "#plt.savefig(\"test.png\", frameon=False)\n",
    "#plt.show()"
   ]
  },
  {
   "cell_type": "code",
   "execution_count": 23,
   "metadata": {},
   "outputs": [],
   "source": [
    "# run until a stable state is reached\n",
    "\n",
    "while np.max(field) >= MAXH:\n",
    "\n",
    "    # find the highest pile\n",
    "    toohigh = field >= MAXH\n",
    "    \n",
    "    # decrease piles\n",
    "    field[toohigh] -= MAXH\n",
    "    \n",
    "    # increase piles\n",
    "    field[1:,:][toohigh[:-1,:]] += MAXH / 4\n",
    "    field[:-1,:][toohigh[1:,:]] += MAXH / 4\n",
    "    field[:,1:][toohigh[:,:-1]] += MAXH / 4\n",
    "    field[:,:-1][toohigh[:,1:]] += MAXH / 4\n",
    "\n",
    "    # reset the overspill\n",
    "    field[0:1,:] = 0\n",
    "    field[1+SIZE[0]:,:] = 0\n",
    "    field[:,0:1] = 0\n",
    "    field[:,1+SIZE[1]:] = 0\n",
    "    \n",
    "    # increase number of iterations\n",
    "\n",
    "# ending time\n",
    "\n",
    "# show piles\n",
    "field = field[1:1+SIZE[0],1:1+SIZE[1]]"
   ]
  }
 ],
 "metadata": {
  "kernelspec": {
   "display_name": "Python 2",
   "language": "python",
   "name": "python2"
  },
  "language_info": {
   "codemirror_mode": {
    "name": "ipython",
    "version": 2
   },
   "file_extension": ".py",
   "mimetype": "text/x-python",
   "name": "python",
   "nbconvert_exporter": "python",
   "pygments_lexer": "ipython2",
   "version": "2.7.13"
  }
 },
 "nbformat": 4,
 "nbformat_minor": 2
}
